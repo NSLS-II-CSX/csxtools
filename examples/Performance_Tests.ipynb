{
 "cells": [
  {
   "cell_type": "markdown",
   "metadata": {},
   "source": [
    "# Performance Tests"
   ]
  },
  {
   "cell_type": "code",
   "execution_count": 1,
   "metadata": {
    "collapsed": false
   },
   "outputs": [],
   "source": [
    "import numpy as np\n",
    "import timeit\n",
    "from csxtools.image import rotate90\n",
    "from csxtools.fastccd import correct_images"
   ]
  },
  {
   "cell_type": "markdown",
   "metadata": {},
   "source": [
    "## Rotations\n",
    "Start by testing the speed of the rotations of the arrays using the fast stack. Lets create some big arrays!"
   ]
  },
  {
   "cell_type": "code",
   "execution_count": 2,
   "metadata": {
    "collapsed": false
   },
   "outputs": [],
   "source": [
    "big_array = np.ones((10000,960,960), dtype=np.float32)"
   ]
  },
  {
   "cell_type": "code",
   "execution_count": 3,
   "metadata": {
    "collapsed": false
   },
   "outputs": [
    {
     "name": "stdout",
     "output_type": "stream",
     "text": [
      "Rotation of (10000, 960, 960) matrix takes 12.532802192610689 seconds\n"
     ]
    }
   ],
   "source": [
    "t = timeit.timeit('rotate90(big_array, \"cw\")', globals=globals(), number=10) / 10\n",
    "print('Rotation of {} matrix takes {} seconds'.format(big_array.shape, t))"
   ]
  },
  {
   "cell_type": "markdown",
   "metadata": {},
   "source": [
    "## FastCCD Image Corrections\n",
    "Test a stack of fast CCD images"
   ]
  },
  {
   "cell_type": "code",
   "execution_count": 4,
   "metadata": {
    "collapsed": false
   },
   "outputs": [],
   "source": [
    "big_array = np.ones((10000,960,960), dtype=np.uint16)\n",
    "bgnd = np.zeros((960,960), dtype=np.float32)\n",
    "bgnd = np.array((bgnd,bgnd,bgnd), dtype=np.float32)\n",
    "ff = np.ones((960,960), dtype=np.float32)"
   ]
  },
  {
   "cell_type": "code",
   "execution_count": 5,
   "metadata": {
    "collapsed": true
   },
   "outputs": [],
   "source": [
    "def adjust_gain_and_subtract_bg(raw_data, bg, ff):\n",
    "    G1 = int('0b1100000000000000',2)\n",
    "    G2 = int('0b1000000000000000',2)\n",
    "    G8 = int('0b0000000000000000',2)\n",
    "    M  = int('0b0001111111111111',2)\n",
    " \n",
    "    images = ( ((raw_data & M) - bg[0]) * ((raw_data & G1) == G1) * 8 +\n",
    "               ((raw_data & M) - bg[1]) * ((raw_data & G1) == G2) * 4 +\n",
    "               ((raw_data & M) - bg[2]) * ((raw_data & G1) == G8) * 1 )\n",
    "    images = images * ff\n",
    "    return images"
   ]
  },
  {
   "cell_type": "code",
   "execution_count": 6,
   "metadata": {
    "collapsed": false
   },
   "outputs": [
    {
     "name": "stdout",
     "output_type": "stream",
     "text": [
      "Correction of (10000, 960, 960) matrix takes 300.50499161100015 seconds using NUMPY\n"
     ]
    }
   ],
   "source": [
    "t = timeit.timeit('adjust_gain_and_subtract_bg(big_array,bgnd,ff)', globals=globals(), number=1)/1\n",
    "print('Correction of {} matrix takes {} seconds using NUMPY'.format(big_array.shape, t))"
   ]
  },
  {
   "cell_type": "code",
   "execution_count": 7,
   "metadata": {
    "collapsed": false
   },
   "outputs": [
    {
     "name": "stdout",
     "output_type": "stream",
     "text": [
      "Correction of (10000, 960, 960) matrix takes 9.618055118992924 seconds using CSXTOOLS\n"
     ]
    }
   ],
   "source": [
    "t = timeit.timeit('correct_images(big_array,bgnd,ff)', globals=globals(), number=10)/10\n",
    "print('Correction of {} matrix takes {} seconds using CSXTOOLS'.format(big_array.shape, t))"
   ]
  },
  {
   "cell_type": "markdown",
   "metadata": {},
   "source": [
    "## Mean of image stack\n",
    "Calculate the mean of a stack of images"
   ]
  },
  {
   "cell_type": "code",
   "execution_count": 8,
   "metadata": {
    "collapsed": false
   },
   "outputs": [],
   "source": [
    "big_array = np.ones((10000,960,960), dtype=np.float32)"
   ]
  },
  {
   "cell_type": "code",
   "execution_count": 9,
   "metadata": {
    "collapsed": false
   },
   "outputs": [
    {
     "name": "stdout",
     "output_type": "stream",
     "text": [
      "Numpy Mean of (10000, 960, 960) matrix takes 5.237616855790838 seconds\n"
     ]
    }
   ],
   "source": [
    "t = timeit.timeit('np.mean(big_array, axis=0)', globals=globals(), number=10)\n",
    "print('Numpy Mean of {} matrix takes {} seconds'.format(big_array.shape, t/10))"
   ]
  },
  {
   "cell_type": "code",
   "execution_count": null,
   "metadata": {
    "collapsed": true
   },
   "outputs": [],
   "source": []
  }
 ],
 "metadata": {
  "kernelspec": {
   "display_name": "xf23id1-srv1 - Analysis Conda Env",
   "language": "",
   "name": "srv1-analysis-kernel"
  },
  "language_info": {
   "codemirror_mode": {
    "name": "ipython",
    "version": 3
   },
   "file_extension": ".py",
   "mimetype": "text/x-python",
   "name": "python",
   "nbconvert_exporter": "python",
   "pygments_lexer": "ipython3",
   "version": "3.5.0"
  }
 },
 "nbformat": 4,
 "nbformat_minor": 0
}
